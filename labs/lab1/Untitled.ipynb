{
 "cells": [
  {
   "cell_type": "code",
   "execution_count": 3,
   "id": "b0ed5e64",
   "metadata": {},
   "outputs": [],
   "source": [
    "test_list1 = [1,2,3]"
   ]
  },
  {
   "cell_type": "code",
   "execution_count": 4,
   "id": "3f6b8665",
   "metadata": {},
   "outputs": [],
   "source": [
    "none_list = [None] * 3"
   ]
  },
  {
   "cell_type": "code",
   "execution_count": 6,
   "id": "6834a84e",
   "metadata": {},
   "outputs": [],
   "source": [
    "for i in none_list :\n",
    "    test_list1.append(i)"
   ]
  },
  {
   "cell_type": "code",
   "execution_count": 7,
   "id": "1fee27a0",
   "metadata": {},
   "outputs": [
    {
     "data": {
      "text/plain": [
       "[1, 2, 3, None, None, None]"
      ]
     },
     "execution_count": 7,
     "metadata": {},
     "output_type": "execute_result"
    }
   ],
   "source": [
    "test_list1\n"
   ]
  },
  {
   "cell_type": "code",
   "execution_count": 11,
   "id": "220ce1dd",
   "metadata": {},
   "outputs": [],
   "source": [
    "for index, item in enumerate(test_list1):\n",
    "    if item is None:\n",
    "        test_list1[index] = test_list1[index-1]"
   ]
  },
  {
   "cell_type": "code",
   "execution_count": 12,
   "id": "b93fcabc",
   "metadata": {},
   "outputs": [
    {
     "data": {
      "text/plain": [
       "[1, 2, 3, 3, 3, 3]"
      ]
     },
     "execution_count": 12,
     "metadata": {},
     "output_type": "execute_result"
    }
   ],
   "source": [
    "test_list1"
   ]
  }
 ],
 "metadata": {
  "kernelspec": {
   "display_name": "Python 3",
   "language": "python",
   "name": "python3"
  },
  "language_info": {
   "codemirror_mode": {
    "name": "ipython",
    "version": 3
   },
   "file_extension": ".py",
   "mimetype": "text/x-python",
   "name": "python",
   "nbconvert_exporter": "python",
   "pygments_lexer": "ipython3",
   "version": "3.8.5"
  }
 },
 "nbformat": 4,
 "nbformat_minor": 5
}
